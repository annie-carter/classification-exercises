{
 "cells": [
  {
   "cell_type": "code",
   "execution_count": 1,
   "id": "ff2dd0c5",
   "metadata": {},
   "outputs": [
    {
     "ename": "SyntaxError",
     "evalue": "invalid syntax (prepare.py, line 1)",
     "output_type": "error",
     "traceback": [
      "Traceback \u001b[0;36m(most recent call last)\u001b[0m:\n",
      "\u001b[0m  File \u001b[1;32m/opt/homebrew/anaconda3/lib/python3.10/site-packages/IPython/core/interactiveshell.py:3460\u001b[0m in \u001b[1;35mrun_code\u001b[0m\n    exec(code_obj, self.user_global_ns, self.user_ns)\u001b[0m\n",
      "\u001b[0;36m  Cell \u001b[0;32mIn[1], line 13\u001b[0;36m\n\u001b[0;31m    import prepare\u001b[0;36m\n",
      "\u001b[0;36m  File \u001b[0;32m~/codeup-data-science/classification-exercises/prepare.py:1\u001b[0;36m\u001b[0m\n\u001b[0;31m    mport pandas as pd\u001b[0m\n\u001b[0m          ^\u001b[0m\n\u001b[0;31mSyntaxError\u001b[0m\u001b[0;31m:\u001b[0m invalid syntax\n"
     ]
    }
   ],
   "source": [
    "\n",
    "import pandas as pd\n",
    "import numpy as np\n",
    "import matplotlib.pyplot as plt\n",
    "from pydataset import data\n",
    "import seaborn as sns\n",
    "# acquire\n",
    "from env import user, password, hostname, get_db_url\n",
    "from pydataset import data\n",
    "from sklearn.model_selection import train_test_split\n",
    "\n",
    "\n",
    "import acquire\n",
    "import prepare\n",
    "\n",
    "# turn off pink warning boxes\n",
    "import warnings\n",
    "warnings.filterwarnings(\"ignore\")"
   ]
  },
  {
   "cell_type": "code",
   "execution_count": null,
   "id": "a112e97d",
   "metadata": {},
   "outputs": [],
   "source": [
    "df_iris = data('iris', show_doc=True)"
   ]
  },
  {
   "cell_type": "code",
   "execution_count": null,
   "id": "aa7f5695",
   "metadata": {},
   "outputs": [],
   "source": [
    "df_iris = data('iris')\n",
    "df_iris.head(3)"
   ]
  },
  {
   "cell_type": "code",
   "execution_count": null,
   "id": "b4022e35",
   "metadata": {},
   "outputs": [],
   "source": [
    "df_iris.shape"
   ]
  },
  {
   "cell_type": "code",
   "execution_count": null,
   "id": "e9df1fc7",
   "metadata": {},
   "outputs": [],
   "source": [
    "df_iris.columns"
   ]
  },
  {
   "cell_type": "code",
   "execution_count": null,
   "id": "92ae424b",
   "metadata": {},
   "outputs": [],
   "source": [
    "df_iris.dtypes"
   ]
  },
  {
   "cell_type": "code",
   "execution_count": null,
   "id": "73cc006b",
   "metadata": {},
   "outputs": [],
   "source": [
    "df_iris.info()"
   ]
  },
  {
   "cell_type": "code",
   "execution_count": null,
   "id": "859799fd",
   "metadata": {},
   "outputs": [],
   "source": [
    "stats = df_iris.describe().T\n",
    "stats"
   ]
  },
  {
   "cell_type": "markdown",
   "id": "8c3a621c",
   "metadata": {},
   "source": [
    "## ACQUIRE Google Sheets"
   ]
  },
  {
   "cell_type": "code",
   "execution_count": null,
   "id": "f8ff4b22",
   "metadata": {},
   "outputs": [],
   "source": [
    "# Grab the Google sheet url.\n",
    "\n",
    "sheet_url = 'https://docs.google.com/spreadsheets/d/1Uhtml8KY19LILuZsrDtlsHHDC9wuDGUSe8LTEwvdI5g/edit#gid=341089357'"
   ]
  },
  {
   "cell_type": "code",
   "execution_count": null,
   "id": "0f629f35",
   "metadata": {},
   "outputs": [],
   "source": [
    "csv_export_url = sheet_url.replace('/edit#gid=', '/export?format=csv&gid=')"
   ]
  },
  {
   "cell_type": "code",
   "execution_count": null,
   "id": "2cb8d2cd",
   "metadata": {},
   "outputs": [],
   "source": [
    "df_google = pd.read_csv(csv_export_url)"
   ]
  },
  {
   "cell_type": "code",
   "execution_count": null,
   "id": "2963928d",
   "metadata": {},
   "outputs": [],
   "source": [
    "df_google.info"
   ]
  },
  {
   "cell_type": "code",
   "execution_count": null,
   "id": "a97d1a07",
   "metadata": {},
   "outputs": [],
   "source": [
    "df_google.head(3)"
   ]
  },
  {
   "cell_type": "code",
   "execution_count": null,
   "id": "767a01af",
   "metadata": {},
   "outputs": [],
   "source": [
    "df_google.shape"
   ]
  },
  {
   "cell_type": "code",
   "execution_count": null,
   "id": "308b7861",
   "metadata": {},
   "outputs": [],
   "source": [
    "\n",
    "# shows columns and puts them into list more functionality \n",
    "df_google.columns.to_list()"
   ]
  },
  {
   "cell_type": "code",
   "execution_count": null,
   "id": "954e8958",
   "metadata": {},
   "outputs": [],
   "source": [
    "df_google.dtypes\n"
   ]
  },
  {
   "cell_type": "code",
   "execution_count": null,
   "id": "ad48983c",
   "metadata": {},
   "outputs": [],
   "source": [
    "df_google.describe().T\n"
   ]
  },
  {
   "cell_type": "code",
   "execution_count": null,
   "id": "9385e4bc",
   "metadata": {},
   "outputs": [],
   "source": [
    "for col in df_google.columns:\n",
    "#     print(col)\n",
    "    if df_google[col].dtypes == 'object':\n",
    "        print(f'{col} has {df_google[col].nunique()} unique values.')"
   ]
  },
  {
   "cell_type": "code",
   "execution_count": null,
   "id": "853509d3",
   "metadata": {},
   "outputs": [],
   "source": [
    "df_google.Survived.value_counts(dropna=False)"
   ]
  },
  {
   "cell_type": "code",
   "execution_count": null,
   "id": "44354bc9",
   "metadata": {},
   "outputs": [],
   "source": [
    "df_google.Pclass.value_counts(dropna=False)"
   ]
  },
  {
   "cell_type": "code",
   "execution_count": null,
   "id": "9b270726",
   "metadata": {},
   "outputs": [],
   "source": [
    "df_google.Embarked.value_counts(dropna=False)"
   ]
  },
  {
   "cell_type": "markdown",
   "id": "758013e0",
   "metadata": {},
   "source": [
    "## ACQUIRE EXCEL\n",
    "\n",
    "Read the train table from the train.xlsx file into a dataframe named df_excel."
   ]
  },
  {
   "cell_type": "code",
   "execution_count": null,
   "id": "6a431649",
   "metadata": {},
   "outputs": [],
   "source": [
    "df_excel = pd.read_excel('train.xlsx', sheet_name ='train')"
   ]
  },
  {
   "cell_type": "code",
   "execution_count": null,
   "id": "1cb3064a",
   "metadata": {},
   "outputs": [],
   "source": [
    "df_excel.info()"
   ]
  },
  {
   "cell_type": "code",
   "execution_count": null,
   "id": "a5844ba1",
   "metadata": {},
   "outputs": [],
   "source": [
    "df_excel_sample = df_excel.head(100)"
   ]
  },
  {
   "cell_type": "code",
   "execution_count": null,
   "id": "37bb08f7",
   "metadata": {},
   "outputs": [],
   "source": [
    "df_excel_sample.shape"
   ]
  },
  {
   "cell_type": "code",
   "execution_count": null,
   "id": "836a1da2",
   "metadata": {},
   "outputs": [],
   "source": [
    "df_excel.shape[0]"
   ]
  },
  {
   "cell_type": "code",
   "execution_count": null,
   "id": "bbc415b6",
   "metadata": {},
   "outputs": [],
   "source": [
    "df_excel.columns[:5]"
   ]
  },
  {
   "cell_type": "code",
   "execution_count": null,
   "id": "ad6fa4de",
   "metadata": {},
   "outputs": [],
   "source": [
    "df_excel.select_dtypes(include='object').head()"
   ]
  },
  {
   "cell_type": "code",
   "execution_count": null,
   "id": "c41e123e",
   "metadata": {},
   "outputs": [],
   "source": [
    "df_excel.select_dtypes(include='object').columns.to_list()\n"
   ]
  },
  {
   "cell_type": "code",
   "execution_count": null,
   "id": "5f1f38a1",
   "metadata": {},
   "outputs": [],
   "source": [
    "df_excel.head(3)"
   ]
  },
  {
   "cell_type": "code",
   "execution_count": null,
   "id": "b0aae480",
   "metadata": {},
   "outputs": [],
   "source": [
    "titanic_stats = df_excel[['Age', 'Fare']].describe().T\n",
    "titanic_stats"
   ]
  },
  {
   "cell_type": "markdown",
   "id": "a0896f51",
   "metadata": {},
   "source": [
    "## CREATE acquire.py"
   ]
  },
  {
   "cell_type": "code",
   "execution_count": null,
   "id": "a13f8d67",
   "metadata": {},
   "outputs": [],
   "source": [
    "import acquire"
   ]
  },
  {
   "cell_type": "code",
   "execution_count": null,
   "id": "dec06854",
   "metadata": {},
   "outputs": [],
   "source": [
    "titanic_df = acquire.get_titanic_data()"
   ]
  },
  {
   "cell_type": "code",
   "execution_count": null,
   "id": "a0ec47c6",
   "metadata": {},
   "outputs": [],
   "source": [
    "titanic_df.head()"
   ]
  },
  {
   "cell_type": "code",
   "execution_count": null,
   "id": "271e439a",
   "metadata": {},
   "outputs": [],
   "source": [
    "iris_df = acquire.get_iris_data()\n"
   ]
  },
  {
   "cell_type": "code",
   "execution_count": null,
   "id": "6e437ad4",
   "metadata": {},
   "outputs": [],
   "source": [
    "iris_df.head()\n"
   ]
  },
  {
   "cell_type": "code",
   "execution_count": null,
   "id": "c0f713f8",
   "metadata": {},
   "outputs": [],
   "source": [
    "telco_df = acquire.get_telco_data()"
   ]
  },
  {
   "cell_type": "code",
   "execution_count": null,
   "id": "80742eb2",
   "metadata": {},
   "outputs": [],
   "source": [
    "telco_df.head()"
   ]
  },
  {
   "cell_type": "markdown",
   "id": "3381de5f",
   "metadata": {},
   "source": [
    "## Exploratory Analysis\n",
    "\n",
    "### Part 1\n",
    "Continue in your classification_exercises.ipynb notebook. As always, add, commit, and push your changes.\n",
    "\n",
    "Section 1 - iris_db: Using iris data from our mySQL server and the methods used in the lesson above:\n",
    "\n",
    "#### 1. Acquire, prepare & split your data."
   ]
  },
  {
   "cell_type": "code",
   "execution_count": null,
   "id": "8d75d8d4",
   "metadata": {},
   "outputs": [],
   "source": [
    "# get iris data\n",
    "df_iris = acquire.get_iris_data()\n",
    "df_iris"
   ]
  },
  {
   "cell_type": "code",
   "execution_count": null,
   "id": "2aa849c1",
   "metadata": {},
   "outputs": [],
   "source": [
    "df_iris.shape"
   ]
  },
  {
   "cell_type": "code",
   "execution_count": null,
   "id": "a5e4f32e",
   "metadata": {},
   "outputs": [],
   "source": [
    " #Drop the unnecessary column\n",
    "df_iris = df_iris.drop(columns=['Unnamed: 0', 'measurement_id'])\n",
    "df_iris\n"
   ]
  },
  {
   "cell_type": "code",
   "execution_count": null,
   "id": "19123477",
   "metadata": {},
   "outputs": [],
   "source": [
    "df_iris = df_iris.rename(columns={'species_name':'species', 'species_id': \"id\"})\n",
    "df_iris"
   ]
  },
  {
   "cell_type": "code",
   "execution_count": null,
   "id": "b43ecab0",
   "metadata": {},
   "outputs": [],
   "source": [
    "def my_train_test_split(df, target = None):\n",
    "    if target:\n",
    "        train, test = train_test_split(df, test_size=.2, random_state=123, stratify=df[target])\n",
    "        train, validate = train_test_split(train, test_size=.25, random_state=123, stratify=train[target])\n",
    "    else:\n",
    "        train, test = train_test_split(df, test_size=.2, random_state=123)\n",
    "        train, validate = train_test_split(train, test_size=.25, random_state=123)\n",
    "    return train, validate, test"
   ]
  },
  {
   "cell_type": "code",
   "execution_count": null,
   "id": "e04ed8b5",
   "metadata": {},
   "outputs": [],
   "source": [
    "target = 'species'"
   ]
  },
  {
   "cell_type": "code",
   "execution_count": null,
   "id": "cfe87ec9",
   "metadata": {},
   "outputs": [],
   "source": [
    "train_iris, validate_iris, test_iris = my_train_test_split(df_iris, target = 'species')"
   ]
  },
  {
   "cell_type": "code",
   "execution_count": null,
   "id": "1f413980",
   "metadata": {},
   "outputs": [],
   "source": [
    "print(f'Prepared df: {df_iris.shape}')\n",
    "print()\n",
    "print(f'Train: {train_iris.shape}')\n",
    "print(f'Validate: {validate_iris.shape}')\n",
    "print(f'Test: {test_iris.shape}')"
   ]
  },
  {
   "cell_type": "markdown",
   "id": "bbd4fc74",
   "metadata": {},
   "source": [
    "#### 2. Univariate Stats\n",
    "\n",
    "For each measurement type (quantitative variable): create a histogram, boxplot, & compute descriptive statistics (using .describe())."
   ]
  },
  {
   "cell_type": "code",
   "execution_count": null,
   "id": "9b86a812",
   "metadata": {},
   "outputs": [],
   "source": [
    "iris_quant_values = ['sepal_length', 'sepal_width', 'petal_length', 'petal_width']\n",
    "\n",
    "\n",
    "\n",
    "for variable in iris_quant_values:\n",
    "    train_iris[variable].hist()\n",
    "    plt.title(variable)\n",
    "    plt.ylabel('Frequency')\n",
    "    plt.xlabel('Value')\n",
    "    plt.show()\n",
    "    print(train_iris[variable].describe())\n",
    "    print()\n",
    "\n"
   ]
  },
  {
   "cell_type": "code",
   "execution_count": null,
   "id": "5dc72688",
   "metadata": {},
   "outputs": [],
   "source": [
    "iris_quant_values = ['sepal_length', 'sepal_width', 'petal_length', 'petal_width']\n",
    "\n",
    "for variable in iris_quant_values:\n",
    "    sns.boxplot(x=variable, data=train_iris)\n",
    "    plt.title(variable)\n",
    "    plt.show()\n",
    "    print(train_iris[variable].describe())\n",
    "    print()\n",
    "\n",
    "   "
   ]
  },
  {
   "cell_type": "code",
   "execution_count": null,
   "id": "01202059",
   "metadata": {},
   "outputs": [],
   "source": [
    " # Compute descriptive statistics\n",
    "\n",
    "iris_stats = df_iris[['sepal_length', 'sepal_width', 'petal_length', 'petal_width']].describe()\n",
    "iris_stats"
   ]
  },
  {
   "cell_type": "markdown",
   "id": "e964b74c",
   "metadata": {},
   "source": [
    "For each species (categorical variable): create a frequency table and a bar plot of those frequencies."
   ]
  },
  {
   "cell_type": "code",
   "execution_count": null,
   "id": "d3549ff3",
   "metadata": {},
   "outputs": [],
   "source": [
    "categorical_vars = ['species']\n",
    "\n",
    "# Frequency table\n",
    "iris_freq = df_iris['species'].value_counts()\n",
    "\n",
    "for col in categorical_vars:\n",
    "    print(train_iris[col].value_counts(normalize=True) * 100)\n",
    "    sns.countplot(x=col, data=train_iris)\n",
    "    plt.show()\n"
   ]
  },
  {
   "cell_type": "markdown",
   "id": "d7528ce8",
   "metadata": {},
   "source": [
    "Document takeaways & any actions."
   ]
  },
  {
   "cell_type": "code",
   "execution_count": null,
   "id": "ce77b6a1",
   "metadata": {},
   "outputs": [],
   "source": []
  },
  {
   "cell_type": "markdown",
   "id": "ac429002",
   "metadata": {},
   "source": [
    "#### 3. Bivariate Stats\n",
    "\n",
    "Visualize each measurement type (y-axis) with the species variable (x-axis) using barplots, adding a horizontal line showing the overall mean of the metric (y-axis).\n",
    "\n",
    "For each measurement type, compute the descriptive statistics for each species.\n",
    "\n",
    "For virginica & versicolor: Compare the mean petal_width using the Mann-Whitney test (scipy.stats.mannwhitneyu) to see if there is a significant difference between the two groups. Do the same for the other measurement types.\n",
    "\n",
    "Document takeaways & any actions."
   ]
  },
  {
   "cell_type": "code",
   "execution_count": null,
   "id": "38229290",
   "metadata": {},
   "outputs": [],
   "source": [
    "# Frequency table\n",
    "species_freq = df_iris['sepal_length'].value_counts()\n",
    "\n",
    "\n",
    "plt.figure(figsize=(8, 6))\n",
    "plt.bar(df_iris['species'].unique(), df_iris.groupby('species')['sepal_length'].mean(), color='pink', linestyle='--')\n",
    "plt.xlabel('Species')\n",
    "plt.ylabel('Sepal Length')\n",
    "plt.title('Average Sepal Length by Species')\n",
    "plt.legend(['Overall Mean'])\n",
    "plt.show()"
   ]
  },
  {
   "cell_type": "code",
   "execution_count": null,
   "id": "415f1aaa",
   "metadata": {},
   "outputs": [],
   "source": [
    "# # Frequency table\n",
    "# species_freq = df_iris['sepal_width'].value_counts()\n",
    "\n",
    "# Bar plot\n",
    "plt.figure(figsize=(8, 6))\n",
    "plt.bar(df_iris['species'].unique(), df_iris.groupby('species')['sepal_width'].mean(), color='pink', linestyle='--')\n",
    "plt.xlabel('Species')\n",
    "plt.ylabel('sepal_width')\n",
    "plt.title('Average Sepal Wodth by Species')\n",
    "plt.legend(['Overall Mean'])\n",
    "plt.show()\n",
    "\n",
    "\n"
   ]
  },
  {
   "cell_type": "code",
   "execution_count": null,
   "id": "4ce7fc1b",
   "metadata": {},
   "outputs": [],
   "source": [
    "# Bar plot\n",
    "# Bar plot\n",
    "plt.figure(figsize=(8, 6))\n",
    "plt.bar(df_iris['species'].unique(), df_iris.groupby('species')['petal_length'].mean(), color='pink', linestyle='--')\n",
    "plt.xlabel('Species')\n",
    "plt.ylabel('petal_length')\n",
    "plt.title('Average Petal Length by Species')\n",
    "plt.legend(['Overall Mean'])\n",
    "plt.show()"
   ]
  },
  {
   "cell_type": "code",
   "execution_count": null,
   "id": "6e3811eb",
   "metadata": {},
   "outputs": [],
   "source": [
    "# Bar plot\n",
    "# Bar plot\n",
    "plt.figure(figsize=(8, 6))\n",
    "plt.bar(df_iris['species'].unique(), df_iris.groupby('species')['petal_width'].mean(), color='pink', linestyle='--')\n",
    "plt.xlabel('Species')\n",
    "plt.ylabel('sepal_width')\n",
    "plt.title('Average Petal Width by Species')\n",
    "plt.legend(['Overall Mean'])\n",
    "plt.show()"
   ]
  },
  {
   "cell_type": "markdown",
   "id": "de90a051",
   "metadata": {},
   "source": [
    "#### 4. Multivariate Stats\n",
    "\n",
    "Visualize the interaction of each measurement type with the others using a pairplot (or scatter matrix or something similar) and add color to represent species.\n",
    "\n",
    "Visualize two numeric variables of the species. Hint: sns.relplot with hue or col\n",
    "\n",
    "Create a swarmplot using a melted dataframe of all your numeric variables. The x-axis should be the variable name, the y-axis the measure. Add another dimension using color to represent species. Document takeaways from this visualization.\n",
    "\n",
    "Ask a specific question of the data, such as: is the sepal area signficantly different in virginica compared to setosa? Answer the question through both a plot and using a mann-whitney or t-test. If you use a t-test, be sure assumptions are met (independence, normality, equal variance).\n",
    "\n",
    "Document takeaways and any actions."
   ]
  },
  {
   "cell_type": "code",
   "execution_count": null,
   "id": "5c098977",
   "metadata": {},
   "outputs": [],
   "source": [
    "train_iris.describe(include='all').T"
   ]
  },
  {
   "cell_type": "code",
   "execution_count": null,
   "id": "5137d502",
   "metadata": {},
   "outputs": [],
   "source": [
    "train_iris_pw_virginica = train_iris.loc[train_iris['species']== 'virginica']['petal_width']"
   ]
  },
  {
   "cell_type": "code",
   "execution_count": null,
   "id": "7bfb7ca3",
   "metadata": {},
   "outputs": [],
   "source": [
    "train_iris_pw_versicolor = train_iris.loc[train_iris['species']== 'versicolor']['petal_width']"
   ]
  },
  {
   "cell_type": "code",
   "execution_count": null,
   "id": "33035bec",
   "metadata": {},
   "outputs": [],
   "source": [
    "train_iris_pw_setosa = train_iris.loc[train_iris['species']== 'setosa']['petal_width']"
   ]
  },
  {
   "cell_type": "code",
   "execution_count": null,
   "id": "df1c5f1f",
   "metadata": {},
   "outputs": [],
   "source": [
    "plt.figure(figsize=(8, 6))\n",
    "plt.scatter(df_iris['sepal_length'], df_iris['sepal_width'], c=df_iris['species'].map({'setosa': 'pink', 'versicolor': 'purple', 'virginica': 'orange'}))\n",
    "plt.xlabel('Sepal Length')\n",
    "plt.ylabel('Sepal Width')\n",
    "plt.title('Scatter Plot of Sepal Length vs Sepal Width')\n",
    "plt.legend(df_iris['species'])\n",
    "plt.show() \n"
   ]
  },
  {
   "cell_type": "code",
   "execution_count": null,
   "id": "d1fa503b",
   "metadata": {},
   "outputs": [],
   "source": [
    "plt.figure(figsize=(8, 6))\n",
    "sns.scatterplot(x='sepal_length', y='sepal_width', hue='species', color= 'plasma' data=df_iris)\n",
    "plt.xlabel('Sepal Length')\n",
    "plt.ylabel('Sepal Width')\n",
    "plt.title('Scatter Plot of Sepal Length vs Sepal Width')\n",
    "plt.legend()\n",
    "plt.show()"
   ]
  },
  {
   "cell_type": "code",
   "execution_count": null,
   "id": "bdf4cee5",
   "metadata": {},
   "outputs": [],
   "source": [
    "plt.figure()\n",
    "sns.pairplot(data=train_iris, hue='species', corner=True)"
   ]
  },
  {
   "cell_type": "code",
   "execution_count": null,
   "id": "1b15def8",
   "metadata": {},
   "outputs": [],
   "source": [
    "sns.catplot(x=\"petal_length\", y=\"petal_width\", data=train_iris, hue=\"species\")"
   ]
  },
  {
   "cell_type": "code",
   "execution_count": null,
   "id": "d5caf75e",
   "metadata": {},
   "outputs": [],
   "source": [
    "melted = train_iris.melt(id_vars=['species'],\n",
    "               var_name='measures',\n",
    "               value_name='values')\n",
    "plt.title('Difference in Measurements across Species')\n",
    "sns.swarmplot(x='measures',\n",
    "             y='values',\n",
    "             data=melted,\n",
    "             hue='species'\n",
    "             )\n",
    "plt.xticks(rotation=45)\n",
    "plt.show"
   ]
  },
  {
   "cell_type": "markdown",
   "id": "7dc51bd7",
   "metadata": {},
   "source": [
    "## Part II\n",
    "### Explore your titanic dataset more completely.\n",
    "\n",
    "Determine drivers of the target variable\n",
    "Determine if certain columns should be dropped\n",
    "Determine if it would be valuable to bin some numeric columns\n",
    "Determine if it would be valuable to combine multiple columns into one.\n",
    "Does it make sense to combine any features?\n",
    "\n",
    "Do you find any surprises?\n",
    "\n",
    "Document any and all findings and takeaways in your notebook using markdown."
   ]
  },
  {
   "cell_type": "code",
   "execution_count": null,
   "id": "f9c64d36",
   "metadata": {},
   "outputs": [],
   "source": [
    "# acquire data using funciton from acquire module\n",
    "df_titanic = acquire.get_titanic_data()\n",
    "\n",
    "# peek into data of dataframe\n",
    "df_titanic.head()"
   ]
  },
  {
   "cell_type": "code",
   "execution_count": null,
   "id": "ce083b4f",
   "metadata": {},
   "outputs": [],
   "source": [
    "\n",
    "# clean data using funciton form prepare module\n",
    "tidy_titanic = prepare.prep_titanic(titanic)"
   ]
  },
  {
   "cell_type": "code",
   "execution_count": null,
   "id": "c28ae1d9",
   "metadata": {},
   "outputs": [],
   "source": [
    "# split data using funciton form prepare module \n",
    "train_titanic, validate_titanic, test_titanic = prepare.train_validate_test_split(titanic, 'survived')\n",
    "\n",
    "# get shape of train, validate and test data\n",
    "train_titanic.shape, validate_titanic.shape, test_titanic.shape"
   ]
  },
  {
   "cell_type": "code",
   "execution_count": null,
   "id": "5b186ddb",
   "metadata": {},
   "outputs": [],
   "source": []
  }
 ],
 "metadata": {
  "kernelspec": {
   "display_name": "Python 3 (ipykernel)",
   "language": "python",
   "name": "python3"
  },
  "language_info": {
   "codemirror_mode": {
    "name": "ipython",
    "version": 3
   },
   "file_extension": ".py",
   "mimetype": "text/x-python",
   "name": "python",
   "nbconvert_exporter": "python",
   "pygments_lexer": "ipython3",
   "version": "3.10.9"
  }
 },
 "nbformat": 4,
 "nbformat_minor": 5
}
